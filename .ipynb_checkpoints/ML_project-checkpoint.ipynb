{
 "cells": [
  {
   "cell_type": "code",
   "execution_count": 1,
   "metadata": {
    "id": "szpi_uPb0ix6"
   },
   "outputs": [],
   "source": [
    "import pandas as pd\n",
    "import numpy as np\n",
    "import math\n",
    "from tqdm import tqdm\n",
    "from sklearn.model_selection import train_test_split\n",
    "from sklearn.preprocessing import LabelEncoder\n",
    "from sklearn.preprocessing import StandardScaler\n",
    "import matplotlib.pyplot as plt\n"
   ]
  },
  {
   "cell_type": "code",
   "execution_count": 2,
   "metadata": {
    "id": "ejjYh30S0qDm"
   },
   "outputs": [],
   "source": [
    "df_bank=pd.read_csv('bank-additional/bank-additional-full.csv',sep=';')"
   ]
  },
  {
   "cell_type": "code",
   "execution_count": 3,
   "metadata": {
    "colab": {
     "base_uri": "https://localhost:8080/",
     "height": 488
    },
    "id": "uIbzZwfy02c-",
    "outputId": "7069f9dd-0138-4796-d1b4-0acb3caf8e89"
   },
   "outputs": [
    {
     "data": {
      "text/html": [
       "<div>\n",
       "<style scoped>\n",
       "    .dataframe tbody tr th:only-of-type {\n",
       "        vertical-align: middle;\n",
       "    }\n",
       "\n",
       "    .dataframe tbody tr th {\n",
       "        vertical-align: top;\n",
       "    }\n",
       "\n",
       "    .dataframe thead th {\n",
       "        text-align: right;\n",
       "    }\n",
       "</style>\n",
       "<table border=\"1\" class=\"dataframe\">\n",
       "  <thead>\n",
       "    <tr style=\"text-align: right;\">\n",
       "      <th></th>\n",
       "      <th>age</th>\n",
       "      <th>job</th>\n",
       "      <th>marital</th>\n",
       "      <th>education</th>\n",
       "      <th>default</th>\n",
       "      <th>housing</th>\n",
       "      <th>loan</th>\n",
       "      <th>contact</th>\n",
       "      <th>month</th>\n",
       "      <th>day_of_week</th>\n",
       "      <th>...</th>\n",
       "      <th>campaign</th>\n",
       "      <th>pdays</th>\n",
       "      <th>previous</th>\n",
       "      <th>poutcome</th>\n",
       "      <th>emp.var.rate</th>\n",
       "      <th>cons.price.idx</th>\n",
       "      <th>cons.conf.idx</th>\n",
       "      <th>euribor3m</th>\n",
       "      <th>nr.employed</th>\n",
       "      <th>y</th>\n",
       "    </tr>\n",
       "  </thead>\n",
       "  <tbody>\n",
       "    <tr>\n",
       "      <th>0</th>\n",
       "      <td>56</td>\n",
       "      <td>housemaid</td>\n",
       "      <td>married</td>\n",
       "      <td>basic.4y</td>\n",
       "      <td>no</td>\n",
       "      <td>no</td>\n",
       "      <td>no</td>\n",
       "      <td>telephone</td>\n",
       "      <td>may</td>\n",
       "      <td>mon</td>\n",
       "      <td>...</td>\n",
       "      <td>1</td>\n",
       "      <td>999</td>\n",
       "      <td>0</td>\n",
       "      <td>nonexistent</td>\n",
       "      <td>1.1</td>\n",
       "      <td>93.994</td>\n",
       "      <td>-36.4</td>\n",
       "      <td>4.857</td>\n",
       "      <td>5191.0</td>\n",
       "      <td>no</td>\n",
       "    </tr>\n",
       "    <tr>\n",
       "      <th>1</th>\n",
       "      <td>57</td>\n",
       "      <td>services</td>\n",
       "      <td>married</td>\n",
       "      <td>high.school</td>\n",
       "      <td>unknown</td>\n",
       "      <td>no</td>\n",
       "      <td>no</td>\n",
       "      <td>telephone</td>\n",
       "      <td>may</td>\n",
       "      <td>mon</td>\n",
       "      <td>...</td>\n",
       "      <td>1</td>\n",
       "      <td>999</td>\n",
       "      <td>0</td>\n",
       "      <td>nonexistent</td>\n",
       "      <td>1.1</td>\n",
       "      <td>93.994</td>\n",
       "      <td>-36.4</td>\n",
       "      <td>4.857</td>\n",
       "      <td>5191.0</td>\n",
       "      <td>no</td>\n",
       "    </tr>\n",
       "    <tr>\n",
       "      <th>2</th>\n",
       "      <td>37</td>\n",
       "      <td>services</td>\n",
       "      <td>married</td>\n",
       "      <td>high.school</td>\n",
       "      <td>no</td>\n",
       "      <td>yes</td>\n",
       "      <td>no</td>\n",
       "      <td>telephone</td>\n",
       "      <td>may</td>\n",
       "      <td>mon</td>\n",
       "      <td>...</td>\n",
       "      <td>1</td>\n",
       "      <td>999</td>\n",
       "      <td>0</td>\n",
       "      <td>nonexistent</td>\n",
       "      <td>1.1</td>\n",
       "      <td>93.994</td>\n",
       "      <td>-36.4</td>\n",
       "      <td>4.857</td>\n",
       "      <td>5191.0</td>\n",
       "      <td>no</td>\n",
       "    </tr>\n",
       "    <tr>\n",
       "      <th>3</th>\n",
       "      <td>40</td>\n",
       "      <td>admin.</td>\n",
       "      <td>married</td>\n",
       "      <td>basic.6y</td>\n",
       "      <td>no</td>\n",
       "      <td>no</td>\n",
       "      <td>no</td>\n",
       "      <td>telephone</td>\n",
       "      <td>may</td>\n",
       "      <td>mon</td>\n",
       "      <td>...</td>\n",
       "      <td>1</td>\n",
       "      <td>999</td>\n",
       "      <td>0</td>\n",
       "      <td>nonexistent</td>\n",
       "      <td>1.1</td>\n",
       "      <td>93.994</td>\n",
       "      <td>-36.4</td>\n",
       "      <td>4.857</td>\n",
       "      <td>5191.0</td>\n",
       "      <td>no</td>\n",
       "    </tr>\n",
       "    <tr>\n",
       "      <th>4</th>\n",
       "      <td>56</td>\n",
       "      <td>services</td>\n",
       "      <td>married</td>\n",
       "      <td>high.school</td>\n",
       "      <td>no</td>\n",
       "      <td>no</td>\n",
       "      <td>yes</td>\n",
       "      <td>telephone</td>\n",
       "      <td>may</td>\n",
       "      <td>mon</td>\n",
       "      <td>...</td>\n",
       "      <td>1</td>\n",
       "      <td>999</td>\n",
       "      <td>0</td>\n",
       "      <td>nonexistent</td>\n",
       "      <td>1.1</td>\n",
       "      <td>93.994</td>\n",
       "      <td>-36.4</td>\n",
       "      <td>4.857</td>\n",
       "      <td>5191.0</td>\n",
       "      <td>no</td>\n",
       "    </tr>\n",
       "    <tr>\n",
       "      <th>...</th>\n",
       "      <td>...</td>\n",
       "      <td>...</td>\n",
       "      <td>...</td>\n",
       "      <td>...</td>\n",
       "      <td>...</td>\n",
       "      <td>...</td>\n",
       "      <td>...</td>\n",
       "      <td>...</td>\n",
       "      <td>...</td>\n",
       "      <td>...</td>\n",
       "      <td>...</td>\n",
       "      <td>...</td>\n",
       "      <td>...</td>\n",
       "      <td>...</td>\n",
       "      <td>...</td>\n",
       "      <td>...</td>\n",
       "      <td>...</td>\n",
       "      <td>...</td>\n",
       "      <td>...</td>\n",
       "      <td>...</td>\n",
       "      <td>...</td>\n",
       "    </tr>\n",
       "    <tr>\n",
       "      <th>41183</th>\n",
       "      <td>73</td>\n",
       "      <td>retired</td>\n",
       "      <td>married</td>\n",
       "      <td>professional.course</td>\n",
       "      <td>no</td>\n",
       "      <td>yes</td>\n",
       "      <td>no</td>\n",
       "      <td>cellular</td>\n",
       "      <td>nov</td>\n",
       "      <td>fri</td>\n",
       "      <td>...</td>\n",
       "      <td>1</td>\n",
       "      <td>999</td>\n",
       "      <td>0</td>\n",
       "      <td>nonexistent</td>\n",
       "      <td>-1.1</td>\n",
       "      <td>94.767</td>\n",
       "      <td>-50.8</td>\n",
       "      <td>1.028</td>\n",
       "      <td>4963.6</td>\n",
       "      <td>yes</td>\n",
       "    </tr>\n",
       "    <tr>\n",
       "      <th>41184</th>\n",
       "      <td>46</td>\n",
       "      <td>blue-collar</td>\n",
       "      <td>married</td>\n",
       "      <td>professional.course</td>\n",
       "      <td>no</td>\n",
       "      <td>no</td>\n",
       "      <td>no</td>\n",
       "      <td>cellular</td>\n",
       "      <td>nov</td>\n",
       "      <td>fri</td>\n",
       "      <td>...</td>\n",
       "      <td>1</td>\n",
       "      <td>999</td>\n",
       "      <td>0</td>\n",
       "      <td>nonexistent</td>\n",
       "      <td>-1.1</td>\n",
       "      <td>94.767</td>\n",
       "      <td>-50.8</td>\n",
       "      <td>1.028</td>\n",
       "      <td>4963.6</td>\n",
       "      <td>no</td>\n",
       "    </tr>\n",
       "    <tr>\n",
       "      <th>41185</th>\n",
       "      <td>56</td>\n",
       "      <td>retired</td>\n",
       "      <td>married</td>\n",
       "      <td>university.degree</td>\n",
       "      <td>no</td>\n",
       "      <td>yes</td>\n",
       "      <td>no</td>\n",
       "      <td>cellular</td>\n",
       "      <td>nov</td>\n",
       "      <td>fri</td>\n",
       "      <td>...</td>\n",
       "      <td>2</td>\n",
       "      <td>999</td>\n",
       "      <td>0</td>\n",
       "      <td>nonexistent</td>\n",
       "      <td>-1.1</td>\n",
       "      <td>94.767</td>\n",
       "      <td>-50.8</td>\n",
       "      <td>1.028</td>\n",
       "      <td>4963.6</td>\n",
       "      <td>no</td>\n",
       "    </tr>\n",
       "    <tr>\n",
       "      <th>41186</th>\n",
       "      <td>44</td>\n",
       "      <td>technician</td>\n",
       "      <td>married</td>\n",
       "      <td>professional.course</td>\n",
       "      <td>no</td>\n",
       "      <td>no</td>\n",
       "      <td>no</td>\n",
       "      <td>cellular</td>\n",
       "      <td>nov</td>\n",
       "      <td>fri</td>\n",
       "      <td>...</td>\n",
       "      <td>1</td>\n",
       "      <td>999</td>\n",
       "      <td>0</td>\n",
       "      <td>nonexistent</td>\n",
       "      <td>-1.1</td>\n",
       "      <td>94.767</td>\n",
       "      <td>-50.8</td>\n",
       "      <td>1.028</td>\n",
       "      <td>4963.6</td>\n",
       "      <td>yes</td>\n",
       "    </tr>\n",
       "    <tr>\n",
       "      <th>41187</th>\n",
       "      <td>74</td>\n",
       "      <td>retired</td>\n",
       "      <td>married</td>\n",
       "      <td>professional.course</td>\n",
       "      <td>no</td>\n",
       "      <td>yes</td>\n",
       "      <td>no</td>\n",
       "      <td>cellular</td>\n",
       "      <td>nov</td>\n",
       "      <td>fri</td>\n",
       "      <td>...</td>\n",
       "      <td>3</td>\n",
       "      <td>999</td>\n",
       "      <td>1</td>\n",
       "      <td>failure</td>\n",
       "      <td>-1.1</td>\n",
       "      <td>94.767</td>\n",
       "      <td>-50.8</td>\n",
       "      <td>1.028</td>\n",
       "      <td>4963.6</td>\n",
       "      <td>no</td>\n",
       "    </tr>\n",
       "  </tbody>\n",
       "</table>\n",
       "<p>41188 rows × 21 columns</p>\n",
       "</div>"
      ],
      "text/plain": [
       "       age          job  marital            education  default housing loan  \\\n",
       "0       56    housemaid  married             basic.4y       no      no   no   \n",
       "1       57     services  married          high.school  unknown      no   no   \n",
       "2       37     services  married          high.school       no     yes   no   \n",
       "3       40       admin.  married             basic.6y       no      no   no   \n",
       "4       56     services  married          high.school       no      no  yes   \n",
       "...    ...          ...      ...                  ...      ...     ...  ...   \n",
       "41183   73      retired  married  professional.course       no     yes   no   \n",
       "41184   46  blue-collar  married  professional.course       no      no   no   \n",
       "41185   56      retired  married    university.degree       no     yes   no   \n",
       "41186   44   technician  married  professional.course       no      no   no   \n",
       "41187   74      retired  married  professional.course       no     yes   no   \n",
       "\n",
       "         contact month day_of_week  ...  campaign  pdays  previous  \\\n",
       "0      telephone   may         mon  ...         1    999         0   \n",
       "1      telephone   may         mon  ...         1    999         0   \n",
       "2      telephone   may         mon  ...         1    999         0   \n",
       "3      telephone   may         mon  ...         1    999         0   \n",
       "4      telephone   may         mon  ...         1    999         0   \n",
       "...          ...   ...         ...  ...       ...    ...       ...   \n",
       "41183   cellular   nov         fri  ...         1    999         0   \n",
       "41184   cellular   nov         fri  ...         1    999         0   \n",
       "41185   cellular   nov         fri  ...         2    999         0   \n",
       "41186   cellular   nov         fri  ...         1    999         0   \n",
       "41187   cellular   nov         fri  ...         3    999         1   \n",
       "\n",
       "          poutcome emp.var.rate  cons.price.idx  cons.conf.idx  euribor3m  \\\n",
       "0      nonexistent          1.1          93.994          -36.4      4.857   \n",
       "1      nonexistent          1.1          93.994          -36.4      4.857   \n",
       "2      nonexistent          1.1          93.994          -36.4      4.857   \n",
       "3      nonexistent          1.1          93.994          -36.4      4.857   \n",
       "4      nonexistent          1.1          93.994          -36.4      4.857   \n",
       "...            ...          ...             ...            ...        ...   \n",
       "41183  nonexistent         -1.1          94.767          -50.8      1.028   \n",
       "41184  nonexistent         -1.1          94.767          -50.8      1.028   \n",
       "41185  nonexistent         -1.1          94.767          -50.8      1.028   \n",
       "41186  nonexistent         -1.1          94.767          -50.8      1.028   \n",
       "41187      failure         -1.1          94.767          -50.8      1.028   \n",
       "\n",
       "       nr.employed    y  \n",
       "0           5191.0   no  \n",
       "1           5191.0   no  \n",
       "2           5191.0   no  \n",
       "3           5191.0   no  \n",
       "4           5191.0   no  \n",
       "...            ...  ...  \n",
       "41183       4963.6  yes  \n",
       "41184       4963.6   no  \n",
       "41185       4963.6   no  \n",
       "41186       4963.6  yes  \n",
       "41187       4963.6   no  \n",
       "\n",
       "[41188 rows x 21 columns]"
      ]
     },
     "execution_count": 3,
     "metadata": {},
     "output_type": "execute_result"
    }
   ],
   "source": [
    "df_bank"
   ]
  },
  {
   "cell_type": "code",
   "execution_count": 4,
   "metadata": {
    "colab": {
     "base_uri": "https://localhost:8080/"
    },
    "id": "8RCvpB1a03rW",
    "outputId": "a7442e62-cf44-4cff-f9cd-9cf43f546355"
   },
   "outputs": [
    {
     "data": {
      "text/plain": [
       "(41188, 21)"
      ]
     },
     "execution_count": 4,
     "metadata": {},
     "output_type": "execute_result"
    }
   ],
   "source": [
    "df_bank.shape"
   ]
  },
  {
   "cell_type": "code",
   "execution_count": 5,
   "metadata": {
    "colab": {
     "base_uri": "https://localhost:8080/"
    },
    "id": "M5_09hQG1a9D",
    "outputId": "cb410e5e-cde1-4553-b9bb-eb45307d3cbe"
   },
   "outputs": [
    {
     "data": {
      "text/plain": [
       "age               0\n",
       "job               0\n",
       "marital           0\n",
       "education         0\n",
       "default           0\n",
       "housing           0\n",
       "loan              0\n",
       "contact           0\n",
       "month             0\n",
       "day_of_week       0\n",
       "duration          0\n",
       "campaign          0\n",
       "pdays             0\n",
       "previous          0\n",
       "poutcome          0\n",
       "emp.var.rate      0\n",
       "cons.price.idx    0\n",
       "cons.conf.idx     0\n",
       "euribor3m         0\n",
       "nr.employed       0\n",
       "y                 0\n",
       "dtype: int64"
      ]
     },
     "execution_count": 5,
     "metadata": {},
     "output_type": "execute_result"
    }
   ],
   "source": [
    "df_bank.isna().sum()"
   ]
  },
  {
   "cell_type": "code",
   "execution_count": 6,
   "metadata": {
    "colab": {
     "base_uri": "https://localhost:8080/"
    },
    "id": "y8jLzTLF3OFW",
    "outputId": "08c67cd6-36bd-4950-d9d5-ddfb617572ac"
   },
   "outputs": [
    {
     "data": {
      "text/plain": [
       "age               0\n",
       "job               0\n",
       "marital           0\n",
       "education         0\n",
       "default           0\n",
       "housing           0\n",
       "loan              0\n",
       "contact           0\n",
       "month             0\n",
       "day_of_week       0\n",
       "duration          0\n",
       "campaign          0\n",
       "pdays             0\n",
       "previous          0\n",
       "poutcome          0\n",
       "emp.var.rate      0\n",
       "cons.price.idx    0\n",
       "cons.conf.idx     0\n",
       "euribor3m         0\n",
       "nr.employed       0\n",
       "y                 0\n",
       "dtype: int64"
      ]
     },
     "execution_count": 6,
     "metadata": {},
     "output_type": "execute_result"
    }
   ],
   "source": [
    "df_bank.eq('').sum()"
   ]
  },
  {
   "cell_type": "code",
   "execution_count": 7,
   "metadata": {
    "colab": {
     "base_uri": "https://localhost:8080/"
    },
    "id": "Iq94DWIJ4Tq7",
    "outputId": "917ba486-031f-477a-84b5-1d592beb1937"
   },
   "outputs": [
    {
     "data": {
      "text/plain": [
       "age                  0\n",
       "job                330\n",
       "marital             80\n",
       "education         1731\n",
       "default           8597\n",
       "housing            990\n",
       "loan               990\n",
       "contact              0\n",
       "month                0\n",
       "day_of_week          0\n",
       "duration             0\n",
       "campaign             0\n",
       "pdays                0\n",
       "previous             0\n",
       "poutcome             0\n",
       "emp.var.rate         0\n",
       "cons.price.idx       0\n",
       "cons.conf.idx        0\n",
       "euribor3m            0\n",
       "nr.employed          0\n",
       "y                    0\n",
       "dtype: int64"
      ]
     },
     "execution_count": 7,
     "metadata": {},
     "output_type": "execute_result"
    }
   ],
   "source": [
    "df_bank.eq('unknown').sum()"
   ]
  },
  {
   "cell_type": "code",
   "execution_count": 8,
   "metadata": {
    "colab": {
     "base_uri": "https://localhost:8080/",
     "height": 457
    },
    "id": "ka3MQ3Po4cLM",
    "outputId": "ca914ac3-d8b1-489f-915e-811994d242f6"
   },
   "outputs": [
    {
     "data": {
      "text/html": [
       "<div>\n",
       "<style scoped>\n",
       "    .dataframe tbody tr th:only-of-type {\n",
       "        vertical-align: middle;\n",
       "    }\n",
       "\n",
       "    .dataframe tbody tr th {\n",
       "        vertical-align: top;\n",
       "    }\n",
       "\n",
       "    .dataframe thead th {\n",
       "        text-align: right;\n",
       "    }\n",
       "</style>\n",
       "<table border=\"1\" class=\"dataframe\">\n",
       "  <thead>\n",
       "    <tr style=\"text-align: right;\">\n",
       "      <th>y</th>\n",
       "      <th>no</th>\n",
       "      <th>yes</th>\n",
       "    </tr>\n",
       "    <tr>\n",
       "      <th>job</th>\n",
       "      <th></th>\n",
       "      <th></th>\n",
       "    </tr>\n",
       "  </thead>\n",
       "  <tbody>\n",
       "    <tr>\n",
       "      <th>admin.</th>\n",
       "      <td>9070</td>\n",
       "      <td>1352</td>\n",
       "    </tr>\n",
       "    <tr>\n",
       "      <th>blue-collar</th>\n",
       "      <td>8616</td>\n",
       "      <td>638</td>\n",
       "    </tr>\n",
       "    <tr>\n",
       "      <th>entrepreneur</th>\n",
       "      <td>1332</td>\n",
       "      <td>124</td>\n",
       "    </tr>\n",
       "    <tr>\n",
       "      <th>housemaid</th>\n",
       "      <td>954</td>\n",
       "      <td>106</td>\n",
       "    </tr>\n",
       "    <tr>\n",
       "      <th>management</th>\n",
       "      <td>2596</td>\n",
       "      <td>328</td>\n",
       "    </tr>\n",
       "    <tr>\n",
       "      <th>retired</th>\n",
       "      <td>1286</td>\n",
       "      <td>434</td>\n",
       "    </tr>\n",
       "    <tr>\n",
       "      <th>self-employed</th>\n",
       "      <td>1272</td>\n",
       "      <td>149</td>\n",
       "    </tr>\n",
       "    <tr>\n",
       "      <th>services</th>\n",
       "      <td>3646</td>\n",
       "      <td>323</td>\n",
       "    </tr>\n",
       "    <tr>\n",
       "      <th>student</th>\n",
       "      <td>600</td>\n",
       "      <td>275</td>\n",
       "    </tr>\n",
       "    <tr>\n",
       "      <th>technician</th>\n",
       "      <td>6013</td>\n",
       "      <td>730</td>\n",
       "    </tr>\n",
       "    <tr>\n",
       "      <th>unemployed</th>\n",
       "      <td>870</td>\n",
       "      <td>144</td>\n",
       "    </tr>\n",
       "    <tr>\n",
       "      <th>unknown</th>\n",
       "      <td>293</td>\n",
       "      <td>37</td>\n",
       "    </tr>\n",
       "  </tbody>\n",
       "</table>\n",
       "</div>"
      ],
      "text/plain": [
       "y                no   yes\n",
       "job                      \n",
       "admin.         9070  1352\n",
       "blue-collar    8616   638\n",
       "entrepreneur   1332   124\n",
       "housemaid       954   106\n",
       "management     2596   328\n",
       "retired        1286   434\n",
       "self-employed  1272   149\n",
       "services       3646   323\n",
       "student         600   275\n",
       "technician     6013   730\n",
       "unemployed      870   144\n",
       "unknown         293    37"
      ]
     },
     "execution_count": 8,
     "metadata": {},
     "output_type": "execute_result"
    }
   ],
   "source": [
    "pd.crosstab(df_bank['job'],df_bank['y'])"
   ]
  },
  {
   "cell_type": "code",
   "execution_count": 9,
   "metadata": {
    "colab": {
     "base_uri": "https://localhost:8080/",
     "height": 590
    },
    "id": "SeokiSDb5EM8",
    "outputId": "c5435bda-655e-4f13-edec-d4921711aba4"
   },
   "outputs": [
    {
     "data": {
      "image/png": "[encoded data removed]",
      "text/plain": [
       "<Figure size 413.25x360 with 1 Axes>"
      ]
     },
     "metadata": {
      "needs_background": "light"
     },
     "output_type": "display_data"
    }
   ],
   "source": [
    "import seaborn as sns\n",
    "import matplotlib.pyplot as plt\n",
    "sns.catplot(x='job',hue='y',data=df_bank,kind='count')\n",
    "plt.xticks(rotation=90)\n",
    "plt.show()"
   ]
  },
  {
   "cell_type": "code",
   "execution_count": 10,
   "metadata": {
    "colab": {
     "base_uri": "https://localhost:8080/",
     "height": 175
    },
    "id": "SZzDSS_06Xah",
    "outputId": "dca07ed8-5475-481b-836a-db2d26432350"
   },
   "outputs": [
    {
     "data": {
      "text/html": [
       "<div>\n",
       "<style scoped>\n",
       "    .dataframe tbody tr th:only-of-type {\n",
       "        vertical-align: middle;\n",
       "    }\n",
       "\n",
       "    .dataframe tbody tr th {\n",
       "        vertical-align: top;\n",
       "    }\n",
       "\n",
       "    .dataframe thead th {\n",
       "        text-align: right;\n",
       "    }\n",
       "</style>\n",
       "<table border=\"1\" class=\"dataframe\">\n",
       "  <thead>\n",
       "    <tr style=\"text-align: right;\">\n",
       "      <th>y</th>\n",
       "      <th>no</th>\n",
       "      <th>yes</th>\n",
       "    </tr>\n",
       "    <tr>\n",
       "      <th>housing</th>\n",
       "      <th></th>\n",
       "      <th></th>\n",
       "    </tr>\n",
       "  </thead>\n",
       "  <tbody>\n",
       "    <tr>\n",
       "      <th>no</th>\n",
       "      <td>16596</td>\n",
       "      <td>2026</td>\n",
       "    </tr>\n",
       "    <tr>\n",
       "      <th>unknown</th>\n",
       "      <td>883</td>\n",
       "      <td>107</td>\n",
       "    </tr>\n",
       "    <tr>\n",
       "      <th>yes</th>\n",
       "      <td>19069</td>\n",
       "      <td>2507</td>\n",
       "    </tr>\n",
       "  </tbody>\n",
       "</table>\n",
       "</div>"
      ],
      "text/plain": [
       "y           no   yes\n",
       "housing             \n",
       "no       16596  2026\n",
       "unknown    883   107\n",
       "yes      19069  2507"
      ]
     },
     "execution_count": 10,
     "metadata": {},
     "output_type": "execute_result"
    }
   ],
   "source": [
    "pd.crosstab(df_bank['housing'],df_bank['y'])"
   ]
  },
  {
   "cell_type": "code",
   "execution_count": 11,
   "metadata": {
    "colab": {
     "base_uri": "https://localhost:8080/",
     "height": 556
    },
    "id": "kvDYQi3g9azP",
    "outputId": "e44d7810-c81c-4d0d-b50f-408d75861573"
   },
   "outputs": [
    {
     "data": {
      "image/png": "[encoded data removed]",
      "text/plain": [
       "<Figure size 413.25x360 with 1 Axes>"
      ]
     },
     "metadata": {
      "needs_background": "light"
     },
     "output_type": "display_data"
    }
   ],
   "source": [
    "sns.catplot(x='housing',hue='y',data=df_bank,kind='count')\n",
    "plt.xticks(rotation=90)\n",
    "plt.show()"
   ]
  },
  {
   "cell_type": "code",
   "execution_count": 12,
   "metadata": {
    "colab": {
     "base_uri": "https://localhost:8080/",
     "height": 175
    },
    "id": "QP7CRvg59hQA",
    "outputId": "898b2d25-4594-4eda-c015-b7cb49908528"
   },
   "outputs": [
    {
     "data": {
      "text/html": [
       "<div>\n",
       "<style scoped>\n",
       "    .dataframe tbody tr th:only-of-type {\n",
       "        vertical-align: middle;\n",
       "    }\n",
       "\n",
       "    .dataframe tbody tr th {\n",
       "        vertical-align: top;\n",
       "    }\n",
       "\n",
       "    .dataframe thead th {\n",
       "        text-align: right;\n",
       "    }\n",
       "</style>\n",
       "<table border=\"1\" class=\"dataframe\">\n",
       "  <thead>\n",
       "    <tr style=\"text-align: right;\">\n",
       "      <th>y</th>\n",
       "      <th>no</th>\n",
       "      <th>yes</th>\n",
       "    </tr>\n",
       "    <tr>\n",
       "      <th>loan</th>\n",
       "      <th></th>\n",
       "      <th></th>\n",
       "    </tr>\n",
       "  </thead>\n",
       "  <tbody>\n",
       "    <tr>\n",
       "      <th>no</th>\n",
       "      <td>30100</td>\n",
       "      <td>3850</td>\n",
       "    </tr>\n",
       "    <tr>\n",
       "      <th>unknown</th>\n",
       "      <td>883</td>\n",
       "      <td>107</td>\n",
       "    </tr>\n",
       "    <tr>\n",
       "      <th>yes</th>\n",
       "      <td>5565</td>\n",
       "      <td>683</td>\n",
       "    </tr>\n",
       "  </tbody>\n",
       "</table>\n",
       "</div>"
      ],
      "text/plain": [
       "y           no   yes\n",
       "loan                \n",
       "no       30100  3850\n",
       "unknown    883   107\n",
       "yes       5565   683"
      ]
     },
     "execution_count": 12,
     "metadata": {},
     "output_type": "execute_result"
    }
   ],
   "source": [
    "pd.crosstab(df_bank['loan'],df_bank['y'])"
   ]
  },
  {
   "cell_type": "code",
   "execution_count": 13,
   "metadata": {
    "colab": {
     "base_uri": "https://localhost:8080/",
     "height": 556
    },
    "id": "K4pje5U29rbE",
    "outputId": "53ab86a6-acee-4472-8b3e-de6c8362b74e"
   },
   "outputs": [
    {
     "data": {
      "image/png": "[encoded data removed]",
      "text/plain": [
       "<Figure size 413.25x360 with 1 Axes>"
      ]
     },
     "metadata": {
      "needs_background": "light"
     },
     "output_type": "display_data"
    }
   ],
   "source": [
    "sns.catplot(x='loan',hue='y',data=df_bank,kind='count')\n",
    "plt.xticks(rotation=90)\n",
    "plt.show()"
   ]
  },
  {
   "cell_type": "code",
   "execution_count": 14,
   "metadata": {
    "colab": {
     "base_uri": "https://localhost:8080/",
     "height": 332
    },
    "id": "PPpjoruZ9th8",
    "outputId": "cecfe2e4-d7cb-4603-ce94-8ba09d8fe955"
   },
   "outputs": [
    {
     "data": {
      "text/html": [
       "<div>\n",
       "<style scoped>\n",
       "    .dataframe tbody tr th:only-of-type {\n",
       "        vertical-align: middle;\n",
       "    }\n",
       "\n",
       "    .dataframe tbody tr th {\n",
       "        vertical-align: top;\n",
       "    }\n",
       "\n",
       "    .dataframe thead th {\n",
       "        text-align: right;\n",
       "    }\n",
       "</style>\n",
       "<table border=\"1\" class=\"dataframe\">\n",
       "  <thead>\n",
       "    <tr style=\"text-align: right;\">\n",
       "      <th>y</th>\n",
       "      <th>no</th>\n",
       "      <th>yes</th>\n",
       "    </tr>\n",
       "    <tr>\n",
       "      <th>education</th>\n",
       "      <th></th>\n",
       "      <th></th>\n",
       "    </tr>\n",
       "  </thead>\n",
       "  <tbody>\n",
       "    <tr>\n",
       "      <th>basic.4y</th>\n",
       "      <td>3748</td>\n",
       "      <td>428</td>\n",
       "    </tr>\n",
       "    <tr>\n",
       "      <th>basic.6y</th>\n",
       "      <td>2104</td>\n",
       "      <td>188</td>\n",
       "    </tr>\n",
       "    <tr>\n",
       "      <th>basic.9y</th>\n",
       "      <td>5572</td>\n",
       "      <td>473</td>\n",
       "    </tr>\n",
       "    <tr>\n",
       "      <th>high.school</th>\n",
       "      <td>8484</td>\n",
       "      <td>1031</td>\n",
       "    </tr>\n",
       "    <tr>\n",
       "      <th>illiterate</th>\n",
       "      <td>14</td>\n",
       "      <td>4</td>\n",
       "    </tr>\n",
       "    <tr>\n",
       "      <th>professional.course</th>\n",
       "      <td>4648</td>\n",
       "      <td>595</td>\n",
       "    </tr>\n",
       "    <tr>\n",
       "      <th>university.degree</th>\n",
       "      <td>10498</td>\n",
       "      <td>1670</td>\n",
       "    </tr>\n",
       "    <tr>\n",
       "      <th>unknown</th>\n",
       "      <td>1480</td>\n",
       "      <td>251</td>\n",
       "    </tr>\n",
       "  </tbody>\n",
       "</table>\n",
       "</div>"
      ],
      "text/plain": [
       "y                       no   yes\n",
       "education                       \n",
       "basic.4y              3748   428\n",
       "basic.6y              2104   188\n",
       "basic.9y              5572   473\n",
       "high.school           8484  1031\n",
       "illiterate              14     4\n",
       "professional.course   4648   595\n",
       "university.degree    10498  1670\n",
       "unknown               1480   251"
      ]
     },
     "execution_count": 14,
     "metadata": {},
     "output_type": "execute_result"
    }
   ],
   "source": [
    "pd.crosstab(df_bank['education'],df_bank['y'])"
   ]
  },
  {
   "cell_type": "code",
   "execution_count": 15,
   "metadata": {
    "colab": {
     "base_uri": "https://localhost:8080/",
     "height": 627
    },
    "id": "sr_U3W8N911Q",
    "outputId": "995329a2-658c-4a5a-cfa2-603c48880e09"
   },
   "outputs": [
    {
     "data": {
      "image/png": "[encoded data removed]",
      "text/plain": [
       "<Figure size 413.25x360 with 1 Axes>"
      ]
     },
     "metadata": {
      "needs_background": "light"
     },
     "output_type": "display_data"
    }
   ],
   "source": [
    "sns.catplot(x='education',hue='y',data=df_bank,kind='count')\n",
    "plt.xticks(rotation=90)\n",
    "plt.show()"
   ]
  },
  {
   "cell_type": "code",
   "execution_count": 16,
   "metadata": {
    "colab": {
     "base_uri": "https://localhost:8080/"
    },
    "id": "UfeWAvqX_xbK",
    "outputId": "760eb819-a513-41a7-e8b4-a7293d386490"
   },
   "outputs": [
    {
     "name": "stdout",
     "output_type": "stream",
     "text": [
      "<class 'pandas.core.frame.DataFrame'>\n",
      "RangeIndex: 41188 entries, 0 to 41187\n",
      "Data columns (total 21 columns):\n",
      " #   Column          Non-Null Count  Dtype  \n",
      "---  ------          --------------  -----  \n",
      " 0   age             41188 non-null  int64  \n",
      " 1   job             41188 non-null  object \n",
      " 2   marital         41188 non-null  object \n",
      " 3   education       41188 non-null  object \n",
      " 4   default         41188 non-null  object \n",
      " 5   housing         41188 non-null  object \n",
      " 6   loan            41188 non-null  object \n",
      " 7   contact         41188 non-null  object \n",
      " 8   month           41188 non-null  object \n",
      " 9   day_of_week     41188 non-null  object \n",
      " 10  duration        41188 non-null  int64  \n",
      " 11  campaign        41188 non-null  int64  \n",
      " 12  pdays           41188 non-null  int64  \n",
      " 13  previous        41188 non-null  int64  \n",
      " 14  poutcome        41188 non-null  object \n",
      " 15  emp.var.rate    41188 non-null  float64\n",
      " 16  cons.price.idx  41188 non-null  float64\n",
      " 17  cons.conf.idx   41188 non-null  float64\n",
      " 18  euribor3m       41188 non-null  float64\n",
      " 19  nr.employed     41188 non-null  float64\n",
      " 20  y               41188 non-null  object \n",
      "dtypes: float64(5), int64(5), object(11)\n",
      "memory usage: 6.6+ MB\n"
     ]
    }
   ],
   "source": [
    "df_bank.info()"
   ]
  },
  {
   "cell_type": "code",
   "execution_count": 17,
   "metadata": {
    "colab": {
     "base_uri": "https://localhost:8080/",
     "height": 175
    },
    "id": "QAlMZ2ls-K3S",
    "outputId": "f8c5474a-14db-4adf-e527-bcf361eb232b"
   },
   "outputs": [
    {
     "data": {
      "text/html": [
       "<div>\n",
       "<style scoped>\n",
       "    .dataframe tbody tr th:only-of-type {\n",
       "        vertical-align: middle;\n",
       "    }\n",
       "\n",
       "    .dataframe tbody tr th {\n",
       "        vertical-align: top;\n",
       "    }\n",
       "\n",
       "    .dataframe thead th {\n",
       "        text-align: right;\n",
       "    }\n",
       "</style>\n",
       "<table border=\"1\" class=\"dataframe\">\n",
       "  <thead>\n",
       "    <tr style=\"text-align: right;\">\n",
       "      <th>y</th>\n",
       "      <th>no</th>\n",
       "      <th>yes</th>\n",
       "    </tr>\n",
       "    <tr>\n",
       "      <th>default</th>\n",
       "      <th></th>\n",
       "      <th></th>\n",
       "    </tr>\n",
       "  </thead>\n",
       "  <tbody>\n",
       "    <tr>\n",
       "      <th>no</th>\n",
       "      <td>28391</td>\n",
       "      <td>4197</td>\n",
       "    </tr>\n",
       "    <tr>\n",
       "      <th>unknown</th>\n",
       "      <td>8154</td>\n",
       "      <td>443</td>\n",
       "    </tr>\n",
       "    <tr>\n",
       "      <th>yes</th>\n",
       "      <td>3</td>\n",
       "      <td>0</td>\n",
       "    </tr>\n",
       "  </tbody>\n",
       "</table>\n",
       "</div>"
      ],
      "text/plain": [
       "y           no   yes\n",
       "default             \n",
       "no       28391  4197\n",
       "unknown   8154   443\n",
       "yes          3     0"
      ]
     },
     "execution_count": 17,
     "metadata": {},
     "output_type": "execute_result"
    }
   ],
   "source": [
    "pd.crosstab(df_bank['default'],df_bank['y'])"
   ]
  },
  {
   "cell_type": "code",
   "execution_count": 18,
   "metadata": {
    "colab": {
     "base_uri": "https://localhost:8080/",
     "height": 556
    },
    "id": "C1jo0GLz4UZk",
    "outputId": "dd074991-4f73-42d8-c4b3-a90f31052275"
   },
   "outputs": [
    {
     "data": {
      "image/png": "[encoded data removed]",
      "text/plain": [
       "<Figure size 413.25x360 with 1 Axes>"
      ]
     },
     "metadata": {
      "needs_background": "light"
     },
     "output_type": "display_data"
    }
   ],
   "source": [
    "sns.catplot(x='default',hue='y',data=df_bank,kind='count')\n",
    "plt.xticks(rotation=90)\n",
    "plt.show()"
   ]
  },
  {
   "cell_type": "code",
   "execution_count": 19,
   "metadata": {
    "colab": {
     "base_uri": "https://localhost:8080/"
    },
    "id": "pVVipEU1JFBT",
    "outputId": "b4220982-3535-4d34-f0bd-66f64fbd6f7d"
   },
   "outputs": [
    {
     "data": {
      "text/plain": [
       "thu    8623\n",
       "mon    8514\n",
       "wed    8134\n",
       "tue    8090\n",
       "fri    7827\n",
       "Name: day_of_week, dtype: int64"
      ]
     },
     "execution_count": 19,
     "metadata": {},
     "output_type": "execute_result"
    }
   ],
   "source": [
    "df_bank.day_of_week.value_counts()"
   ]
  },
  {
   "cell_type": "code",
   "execution_count": 20,
   "metadata": {
    "colab": {
     "base_uri": "https://localhost:8080/"
    },
    "id": "6sL76Yq9RQ0w",
    "outputId": "6fc4193e-c087-4596-e395-8a0ea16ba014"
   },
   "outputs": [
    {
     "data": {
      "text/plain": [
       "(41188, 21)"
      ]
     },
     "execution_count": 20,
     "metadata": {},
     "output_type": "execute_result"
    }
   ],
   "source": [
    "df_bank.shape"
   ]
  },
  {
   "cell_type": "code",
   "execution_count": null,
   "metadata": {
    "colab": {
     "base_uri": "https://localhost:8080/"
    },
    "id": "hYCoLCSJU1JD",
    "outputId": "2a771b06-007b-4391-a475-67dcf8df35a0"
   },
   "outputs": [],
   "source": [
    "def preprocess(df_bank):\n",
    "  df_bank.drop('default',axis=1)\n",
    "  df_bank['y']=df_bank['y'].replace({'yes':1,'no':0})\n",
    "  cat_col=[col for col in df_bank.columns.values if df_bank[col].dtype=='object']\n",
    "\n",
    "\n",
    "  df_cat=df_bank[cat_col] \n",
    "  df_num= df_bank.drop(cat_col,axis=1)\n",
    "\n",
    "  df_cat_dum= pd.get_dummies(df_cat,drop_first=True)\n",
    "  df_bank=pd.concat([df_num,df_cat_dum], axis=1)\n",
    "  scaler=StandardScaler()\n",
    "\n",
    "  \n",
    "  X=df_bank.drop('y',axis=1)\n",
    "  X=scaler.fit_transform(df_bank)\n",
    "  y=df_bank['y']\n",
    "\n",
    "  return X,y\n",
    "  print(df_bank)\n",
    "preprocess(df_bank)"
   ]
  },
  {
   "cell_type": "code",
   "execution_count": null,
   "metadata": {
    "id": "K8UEx0sV7b-r"
   },
   "outputs": [],
   "source": [
    "class LogisticRegression:\n",
    "    \n",
    "    def __init__(self, X, y, learningRate, reg_param, maxIteration, tolerance, index=None, lrtest=False):\n",
    "        self.train_X = X\n",
    "        self.train_y = y\n",
    "        self.learningRate = learningRate\n",
    "        self.reg_param = reg_param\n",
    "        self.maxIteration = maxIteration\n",
    "        self.tolerance = tolerance\n",
    "        self.index = index\n",
    "        self.lrtest = lrtest\n",
    "   \n",
    "    def addX0(self, X):\n",
    "        return np.column_stack([np.ones([X.shape[0], 1]), X])\n",
    "        \n",
    "    def sigmoid(self, z):\n",
    "        sig = 1 / (1 + np.exp(-z))\n",
    "        return sig\n",
    "    \n",
    "    def costFunction(self, X, y):\n",
    "        sig = self.sigmoid(X.dot(self.w))\n",
    "        loss = y * np.log(sig) + (1-y) * np.log(1 - sig)\n",
    "        cost = - loss.sum()\n",
    "        return cost\n",
    "    \n",
    "    def gradient(self, X, y):\n",
    "        sig = self.sigmoid(X.dot(self.w))\n",
    "        grad = (sig - y).dot(X) + 2 * self.reg_param * self.w\n",
    "        return grad\n",
    "    \n",
    "    def gradientDescent(self, X, y):\n",
    "        losses = []\n",
    "        prev_loss = float('inf')\n",
    "        \n",
    "        for i in tqdm(range(self.maxIteration), colour = 'red'):\n",
    "            self.w = self.w - self.learningRate * self.gradient(X, y)\n",
    "            current_loss = self.costFunction(X, y)\n",
    "            diff_loss = np.abs(prev_loss - current_loss)\n",
    "            losses.append(current_loss)\n",
    "            \n",
    "            if diff_loss < self.tolerance:\n",
    "                print(\"The model stopped learning\")\n",
    "                break\n",
    "                \n",
    "            prev_loss = current_loss\n",
    "            \n",
    "        self.plot_cost(losses)\n",
    "        \n",
    "    def predict(self, X):\n",
    "        X = self.addX0(X=X)\n",
    "        sig = self.sigmoid(X.dot(self.w))\n",
    "        return np.around(sig)\n",
    "\n",
    "    def predict_train(self, X):\n",
    "        sig = self.sigmoid(X.dot(self.w))\n",
    "        return np.around(sig)\n",
    "    \n",
    "    def fit(self):\n",
    "        self.train_X = self.addX0(self.train_X)\n",
    "        self.w = np.ones(self.train_X.shape[1], dtype=np.float64)\n",
    "        \n",
    "        if self.index!=None:\n",
    "            self.remove_index(self.index)\n",
    "        \n",
    "        print(self.train_X.shape)\n",
    "        \n",
    "        if self.lrtest == True:\n",
    "            print(\"Finding the best Learning rate, solving using gradient descent\")\n",
    "            self.lr_test(self.train_X, self.train_y)\n",
    "        \n",
    "        else:\n",
    "            print(\"Solving using gradient descent\")\n",
    "            self.gradientDescent(self.train_X, self.train_y)\n",
    "            \n",
    "            print(\"Evaluate the training results\")\n",
    "            y_hat_train = self.predict_train(self.train_X)\n",
    "        \n",
    "            recall, precision, f_score = self.evaluationFunction(self.train_y, y_hat_train)\n",
    "            print(\"The recall of the model is {}\".format(recall))\n",
    "            print(\"The precision of the model is {}\".format(precision))\n",
    "            print(\"The F1 score of the model is {}\".format(f_score))\n",
    "        \n",
    "            #self.plot()\n",
    "            #self.scatterPlt()\n",
    "            #self.plot3D()\n",
    "        \n",
    "    def lr_test(self, X, y):\n",
    "        alphas = [0.1e-5, 0.5e-5, 0.1e-4, 0.5e-4, 0.1e-3, 0.5e-3, 0.1e-2, 0.01, 0.1]\n",
    "        for lr in alphas:\n",
    "            losses = []\n",
    "            prev_loss = float('inf')\n",
    "            for i in tqdm(range(self.maxIteration), colour = 'red'):\n",
    "                self.w = self.w - lr * self.gradient(X, y)\n",
    "                current_loss = self.costFunction(X, y)\n",
    "                diff_loss = np.abs(prev_loss - current_loss)\n",
    "                losses.append(current_loss)\n",
    "            \n",
    "                if diff_loss < self.tolerance:\n",
    "                    print(\"The model stopped learning\")\n",
    "                    break\n",
    "                \n",
    "                prev_loss = current_loss\n",
    "            \n",
    "            self.plot_cost(losses)\n",
    "            print(\"Evaluate the training results\")\n",
    "            y_hat_train = self.predict(self.train_X)\n",
    "            print(\"Learning rate: \", lr)\n",
    "            recall, precision, f_score = self.evaluationFunction(self.train_y, y_hat_train)\n",
    "            print(\"The recall of the model is {}\".format(recall))\n",
    "            print(\"The precision of the model is {}\".format(precision))\n",
    "            print(\"The F1 score of the model is {}\".format(f_score))\n",
    "        \n",
    "    def evaluationFunction(self, y, y_hat):\n",
    "        \n",
    "        y = (y==1)\n",
    "        y_hat = (y_hat==1)\n",
    "        \n",
    "        precision = (y & y_hat).sum() / y_hat.sum()\n",
    "        recall = (y & y_hat).sum() / y.sum()\n",
    "        \n",
    "        f_score = 2 * (precision * recall) / (precision + recall)\n",
    "        \n",
    "        return recall, precision, f_score\n",
    "    \n",
    "    def plot_cost(self, cost_sequence):\n",
    "        #Data for plotting\n",
    "        s = np.array(cost_sequence)\n",
    "        t = np.arange(s.size)\n",
    "        \n",
    "        fig, ax = plt.subplots()\n",
    "        ax.plot(t, s)\n",
    "        \n",
    "        ax.set(xlabel='iterations', ylabel='cost', title='cost trend')\n",
    "        ax.grid()\n",
    "        \n",
    "        plt.legend(bbox_to_anchor=(1.05,1), loc=2, shadow=True)\n",
    "        plt.show()"
   ]
  },
  {
   "cell_type": "code",
   "execution_count": null,
   "metadata": {
    "colab": {
     "base_uri": "https://localhost:8080/"
    },
    "id": "5HR6V7Ky7foR",
    "outputId": "2b9bea42-c78a-4c5f-8066-1908ab202328"
   },
   "outputs": [],
   "source": [
    "train_df, test_df = train_test_split(df_bank, test_size=0.2)\n",
    "print(train_df.shape, test_df.shape)\n",
    "train_X,train_y=preprocess(train_df)\n",
    "print(train_X.shape)\n",
    "print(train_y.shape)"
   ]
  },
  {
   "cell_type": "code",
   "execution_count": null,
   "metadata": {
    "colab": {
     "base_uri": "https://localhost:8080/",
     "height": 956
    },
    "id": "6UWm_vaq8Cff",
    "outputId": "44495e89-d10a-4a46-9a53-a91214f2e19c"
   },
   "outputs": [],
   "source": [
    "clf = LogisticRegression(train_X,train_y, learningRate=0.1e-4,reg_param=0.00001, maxIteration=10000, tolerance=0.00)\n",
    "clf.fit()\n",
    "print(clf.w)"
   ]
  },
  {
   "cell_type": "code",
   "execution_count": null,
   "metadata": {
    "colab": {
     "base_uri": "https://localhost:8080/"
    },
    "id": "0DB8pByb8dsF",
    "outputId": "21d50a69-5911-450c-9be4-ac4dcb2abb90"
   },
   "outputs": [],
   "source": [
    "test_X, test_y = preprocess(test_df)\n",
    "test_y_hat = clf.predict(test_X)\n",
    "clf.evaluationFunction(test_y, test_y_hat)"
   ]
  },
  {
   "cell_type": "code",
   "execution_count": 50,
   "metadata": {},
   "outputs": [
    {
     "name": "stdout",
     "output_type": "stream",
     "text": [
      "['job', 'marital', 'education', 'default', 'housing', 'loan', 'contact', 'month', 'day_of_week', 'poutcome']\n",
      "['age', 'duration', 'campaign', 'pdays', 'previous', 'emp.var.rate', 'cons.price.idx', 'cons.conf.idx', 'euribor3m', 'nr.employed']\n",
      "            age  duration  campaign     pdays  previous  emp.var.rate  \\\n",
      "0      1.533034  0.010471 -0.565922  0.195414 -0.349494      0.648092   \n",
      "1      1.628993 -0.421501 -0.565922  0.195414 -0.349494      0.648092   \n",
      "2     -0.290186 -0.124520 -0.565922  0.195414 -0.349494      0.648092   \n",
      "3     -0.002309 -0.413787 -0.565922  0.195414 -0.349494      0.648092   \n",
      "4      1.533034  0.187888 -0.565922  0.195414 -0.349494      0.648092   \n",
      "...         ...       ...       ...       ...       ...           ...   \n",
      "41183  3.164336  0.292025 -0.565922  0.195414 -0.349494     -0.752343   \n",
      "41184  0.573445  0.481012 -0.565922  0.195414 -0.349494     -0.752343   \n",
      "41185  1.533034 -0.267225 -0.204909  0.195414 -0.349494     -0.752343   \n",
      "41186  0.381527  0.708569 -0.565922  0.195414 -0.349494     -0.752343   \n",
      "41187  3.260295 -0.074380  0.156105  0.195414  1.671136     -0.752343   \n",
      "\n",
      "       cons.price.idx  cons.conf.idx  euribor3m  nr.employed  ...  month_may  \\\n",
      "0            0.722722       0.886447   0.712460     0.331680  ...          1   \n",
      "1            0.722722       0.886447   0.712460     0.331680  ...          1   \n",
      "2            0.722722       0.886447   0.712460     0.331680  ...          1   \n",
      "3            0.722722       0.886447   0.712460     0.331680  ...          1   \n",
      "4            0.722722       0.886447   0.712460     0.331680  ...          1   \n",
      "...               ...            ...        ...          ...  ...        ...   \n",
      "41183        2.058168      -2.224953  -1.495186    -2.815697  ...          0   \n",
      "41184        2.058168      -2.224953  -1.495186    -2.815697  ...          0   \n",
      "41185        2.058168      -2.224953  -1.495186    -2.815697  ...          0   \n",
      "41186        2.058168      -2.224953  -1.495186    -2.815697  ...          0   \n",
      "41187        2.058168      -2.224953  -1.495186    -2.815697  ...          0   \n",
      "\n",
      "       month_nov  month_oct  month_sep  day_of_week_mon  day_of_week_thu  \\\n",
      "0              0          0          0                1                0   \n",
      "1              0          0          0                1                0   \n",
      "2              0          0          0                1                0   \n",
      "3              0          0          0                1                0   \n",
      "4              0          0          0                1                0   \n",
      "...          ...        ...        ...              ...              ...   \n",
      "41183          1          0          0                0                0   \n",
      "41184          1          0          0                0                0   \n",
      "41185          1          0          0                0                0   \n",
      "41186          1          0          0                0                0   \n",
      "41187          1          0          0                0                0   \n",
      "\n",
      "       day_of_week_tue  day_of_week_wed  poutcome_nonexistent  \\\n",
      "0                    0                0                     1   \n",
      "1                    0                0                     1   \n",
      "2                    0                0                     1   \n",
      "3                    0                0                     1   \n",
      "4                    0                0                     1   \n",
      "...                ...              ...                   ...   \n",
      "41183                0                0                     1   \n",
      "41184                0                0                     1   \n",
      "41185                0                0                     1   \n",
      "41186                0                0                     1   \n",
      "41187                0                0                     0   \n",
      "\n",
      "       poutcome_success  \n",
      "0                     0  \n",
      "1                     0  \n",
      "2                     0  \n",
      "3                     0  \n",
      "4                     0  \n",
      "...                 ...  \n",
      "41183                 0  \n",
      "41184                 0  \n",
      "41185                 0  \n",
      "41186                 0  \n",
      "41187                 0  \n",
      "\n",
      "[41188 rows x 53 columns]\n"
     ]
    },
    {
     "name": "stderr",
     "output_type": "stream",
     "text": [
      "<ipython-input-50-05680b562b8b>:18: SettingWithCopyWarning: \n",
      "A value is trying to be set on a copy of a slice from a DataFrame.\n",
      "Try using .loc[row_indexer,col_indexer] = value instead\n",
      "\n",
      "See the caveats in the documentation: https://pandas.pydata.org/pandas-docs/stable/user_guide/indexing.html#returning-a-view-versus-a-copy\n",
      "  df_num[col] = scaler.fit_transform(df_num[[col]])\n",
      "<ipython-input-50-05680b562b8b>:18: SettingWithCopyWarning: \n",
      "A value is trying to be set on a copy of a slice from a DataFrame.\n",
      "Try using .loc[row_indexer,col_indexer] = value instead\n",
      "\n",
      "See the caveats in the documentation: https://pandas.pydata.org/pandas-docs/stable/user_guide/indexing.html#returning-a-view-versus-a-copy\n",
      "  df_num[col] = scaler.fit_transform(df_num[[col]])\n",
      "<ipython-input-50-05680b562b8b>:18: SettingWithCopyWarning: \n",
      "A value is trying to be set on a copy of a slice from a DataFrame.\n",
      "Try using .loc[row_indexer,col_indexer] = value instead\n",
      "\n",
      "See the caveats in the documentation: https://pandas.pydata.org/pandas-docs/stable/user_guide/indexing.html#returning-a-view-versus-a-copy\n",
      "  df_num[col] = scaler.fit_transform(df_num[[col]])\n",
      "<ipython-input-50-05680b562b8b>:18: SettingWithCopyWarning: \n",
      "A value is trying to be set on a copy of a slice from a DataFrame.\n",
      "Try using .loc[row_indexer,col_indexer] = value instead\n",
      "\n",
      "See the caveats in the documentation: https://pandas.pydata.org/pandas-docs/stable/user_guide/indexing.html#returning-a-view-versus-a-copy\n",
      "  df_num[col] = scaler.fit_transform(df_num[[col]])\n",
      "<ipython-input-50-05680b562b8b>:18: SettingWithCopyWarning: \n",
      "A value is trying to be set on a copy of a slice from a DataFrame.\n",
      "Try using .loc[row_indexer,col_indexer] = value instead\n",
      "\n",
      "See the caveats in the documentation: https://pandas.pydata.org/pandas-docs/stable/user_guide/indexing.html#returning-a-view-versus-a-copy\n",
      "  df_num[col] = scaler.fit_transform(df_num[[col]])\n",
      "<ipython-input-50-05680b562b8b>:18: SettingWithCopyWarning: \n",
      "A value is trying to be set on a copy of a slice from a DataFrame.\n",
      "Try using .loc[row_indexer,col_indexer] = value instead\n",
      "\n",
      "See the caveats in the documentation: https://pandas.pydata.org/pandas-docs/stable/user_guide/indexing.html#returning-a-view-versus-a-copy\n",
      "  df_num[col] = scaler.fit_transform(df_num[[col]])\n",
      "<ipython-input-50-05680b562b8b>:18: SettingWithCopyWarning: \n",
      "A value is trying to be set on a copy of a slice from a DataFrame.\n",
      "Try using .loc[row_indexer,col_indexer] = value instead\n",
      "\n",
      "See the caveats in the documentation: https://pandas.pydata.org/pandas-docs/stable/user_guide/indexing.html#returning-a-view-versus-a-copy\n",
      "  df_num[col] = scaler.fit_transform(df_num[[col]])\n",
      "<ipython-input-50-05680b562b8b>:18: SettingWithCopyWarning: \n",
      "A value is trying to be set on a copy of a slice from a DataFrame.\n",
      "Try using .loc[row_indexer,col_indexer] = value instead\n",
      "\n",
      "See the caveats in the documentation: https://pandas.pydata.org/pandas-docs/stable/user_guide/indexing.html#returning-a-view-versus-a-copy\n",
      "  df_num[col] = scaler.fit_transform(df_num[[col]])\n",
      "<ipython-input-50-05680b562b8b>:18: SettingWithCopyWarning: \n",
      "A value is trying to be set on a copy of a slice from a DataFrame.\n",
      "Try using .loc[row_indexer,col_indexer] = value instead\n",
      "\n",
      "See the caveats in the documentation: https://pandas.pydata.org/pandas-docs/stable/user_guide/indexing.html#returning-a-view-versus-a-copy\n",
      "  df_num[col] = scaler.fit_transform(df_num[[col]])\n",
      "<ipython-input-50-05680b562b8b>:18: SettingWithCopyWarning: \n",
      "A value is trying to be set on a copy of a slice from a DataFrame.\n",
      "Try using .loc[row_indexer,col_indexer] = value instead\n",
      "\n",
      "See the caveats in the documentation: https://pandas.pydata.org/pandas-docs/stable/user_guide/indexing.html#returning-a-view-versus-a-copy\n",
      "  df_num[col] = scaler.fit_transform(df_num[[col]])\n"
     ]
    }
   ],
   "source": [
    "def preprocess(df_bank):\n",
    "    df_bank.drop('default',axis=1)\n",
    "    df_bank['y']=df_bank['y'].replace({'yes':1,'no':0})\n",
    "    X = df_bank.drop('y',axis=1)\n",
    "    y = df_bank['y']\n",
    "    \n",
    "    cat_col=[col for col in X.columns.values if X[col].dtype=='object']\n",
    "    num_col = [col for col in X.columns.values if X[col].dtype!='object']\n",
    "    print(cat_col)\n",
    "    print(num_col)\n",
    "    \n",
    "    df_cat=X[cat_col] \n",
    "    df_cat_dum = pd.get_dummies(df_cat,drop_first=True)\n",
    "    \n",
    "    df_num = X[num_col]\n",
    "    scaler = StandardScaler()\n",
    "    for col in df_num.columns:\n",
    "        df_num[col] = scaler.fit_transform(df_num[[col]])\n",
    "    \n",
    "    df_bank=pd.concat([df_num,df_cat_dum], axis=1)\n",
    "    \n",
    "    return df_bank\n",
    "\n",
    "df_bank = preprocess(df_bank)\n",
    "print(df_bank)"
   ]
  },
  {
   "cell_type": "code",
   "execution_count": null,
   "metadata": {},
   "outputs": [],
   "source": [
    "class GaussianNaiveBayes:\n",
    "    def __init__(self, X, y):\n",
    "        self.X = X\n",
    "        self.y = y\n",
    "    \n",
    "    def fitDistribution(self, x):\n",
    "        mean = np.mean(x)\n",
    "        std = np.std(x)\n",
    "        dist = norm(mean, std)\n",
    "        return dist\n",
    "    \n",
    "    def probabilityFunction(self, X, prior, dist1, dist2):\n",
    "        return prior * dist1.pdf(X[0]) * dist2.pdf(X[1])\n",
    "    \n",
    "    def fit(self):\n",
    "        \n",
    "        self.X_train, self.X_test, self.y_train, self.y_test = self.dataSplit()\n",
    "        \n",
    "        X0_train = self.X_train[self.y_train == 0]\n",
    "        X1_train = self.X_train[self.y_train == 1]\n",
    "        \n",
    "        self.X0_prior = len(X0_train)/ len(self.X_train)\n",
    "        self.X1_prior = len(X1_train)/ len(self.X_train)\n",
    "\n",
    "        self.X00_dist = self.fitDistribution(X0_train[:, 0])\n",
    "        self.X10_dist = self.fitDistribution(X0_train[:, 1])\n",
    "    \n",
    "        self.X01_dist = self.fitDistribution(X1_train[:, 0])\n",
    "        self.X11_dist = self.fitDistribution(X1_train[:, 1])\n",
    "        \n",
    "    def predict(self):\n",
    "        for sample, target in zip(self.X_test, self.y_test):\n",
    "            py0 = self.probabilityFunction(sample, self.X0_prior, self.X00_dist, self.X10_dist)\n",
    "            py1 = self.probabilityFunction(sample, self.X1_prior, self.X01_dist, self.X11_dist)\n",
    "            \n",
    "            print(\"P(y=0|%s) = %.3f\" % (sample, py0 * 100))\n",
    "            print(\"P(y=1|%s) = %.3f\" % (sample, py1 * 100))\n",
    "            print(\"Model predicted class {} and the true label was {} \\n\".format(np.argmax([py0*100, py1*100]), target))\n",
    "\n",
    "    "
   ]
  },
  {
   "cell_type": "code",
   "execution_count": null,
   "metadata": {},
   "outputs": [],
   "source": [
    "class DiscreteNaiveBayes:\n",
    "    def __init__(self, X, y):\n",
    "        self.X = X\n",
    "        self.y = y\n",
    "        self.laplaceTau = 2\n",
    "        \n",
    "    def dataSplit(self):\n",
    "        X_train, X_test, y_train, y_test = train_test_split(self.X, self.y, test_size=0.3, random_state=24, shuffle=True)\n",
    "        return X_train, X_test, y_train, y_test\n",
    "    \n",
    "    def laplaceSmoothing(self, label):\n",
    "        print(\"Implementing Laplace smoothing for class: \", label)\n",
    "        if label == 0:\n",
    "            x00 = (np.count_nonzero(self.X0_train[:,0] == 0) + self.laplaceTau) / (len(self.X0_train) + self.X0_train.shape[1]*self.laplaceTau)\n",
    "            x01 = (np.count_nonzero(self.X0_train[:,0] == 1) + self.laplaceTau) / (len(self.X0_train) + self.X0_train.shape[1]*self.laplaceTau)\n",
    "            x10 = (np.count_nonzero(self.X0_train[:,1] == 0) + self.laplaceTau) / (len(self.X0_train) + self.X0_train.shape[1]*self.laplaceTau)\n",
    "            x11 = (np.count_nonzero(self.X0_train[:,1] == 1) + self.laplaceTau) / (len(self.X0_train) + self.X0_train.shape[1]*self.laplaceTau)\n",
    "        else:\n",
    "            x00 = (np.count_nonzero(self.X1_train[:,0] == 0) + self.laplaceTau) / (len(self.X1_train) + self.X1_train.shape[1]*self.laplaceTau)\n",
    "            x01 = (np.count_nonzero(self.X1_train[:,0] == 1) + self.laplaceTau) / (len(self.X1_train) + self.X1_train.shape[1]*self.laplaceTau)\n",
    "            x10 = (np.count_nonzero(self.X1_train[:,1] == 0) + self.laplaceTau) / (len(self.X1_train) + self.X1_train.shape[1]*self.laplaceTau)\n",
    "            x11 = (np.count_nonzero(self.X1_train[:,1] == 1) + self.laplaceTau) / (len(self.X1_train) + self.X1_train.shape[1]*self.laplaceTau)\n",
    "        \n",
    "        print(\"Probabilities for X00, X01, X10, X00 for class : \", label, \": \",x00, x01, x10, x11)\n",
    "        return x00, x01, x10, x11\n",
    "    \n",
    "    def fit(self):\n",
    "        \n",
    "        self.X_train, self.X_test, self.y_train, self.y_test = self.dataSplit()\n",
    "        \n",
    "        self.X0_train = self.X_train[self.y_train == 0]\n",
    "        self.X1_train = self.X_train[self.y_train == 1]\n",
    "                \n",
    "        self.X0_prior = len(self.X0_train)/ len(self.X_train)\n",
    "        self.X1_prior = len(self.X1_train)/ len(self.X_train)\n",
    "        \n",
    "        #First digit after X represents column, second represents value in second column ,and third represents class 0      \n",
    "        self.X000 = np.count_nonzero(self.X0_train[:,0] == 0)/len(self.X0_train)     \n",
    "        self.X010 = np.count_nonzero(self.X0_train[:,0] == 1)/len(self.X0_train)\n",
    "        self.X100 = np.count_nonzero(self.X0_train[:,1] == 0)/len(self.X0_train)\n",
    "        self.X110 = np.count_nonzero(self.X0_train[:,1] == 1)/len(self.X0_train)\n",
    "\n",
    "        print(\"Probabilities for X000, X010, X100, X000: \", self.X000, self.X010, self.X100, self.X110)\n",
    "        if (self.X000 == 0 or self.X010 == 0 or self.X100 == 0 or self.X110 == 0):\n",
    "            self.X000, self.X010, self.X100, self.X110 = self.laplaceSmoothing(label = 0)\n",
    "        \n",
    "        #First digit after X represents column, second represents value in second column ,and third represents class 1      \n",
    "        self.X001 = np.count_nonzero(self.X1_train[:,0] == 0)/len(self.X1_train)\n",
    "        self.X011 = np.count_nonzero(self.X1_train[:,0] == 1)/len(self.X1_train)\n",
    "        self.X101 = np.count_nonzero(self.X1_train[:,1] == 0)/len(self.X1_train)\n",
    "        self.X111 = np.count_nonzero(self.X1_train[:,1] == 1)/len(self.X1_train)\n",
    "        \n",
    "        print(\"Probabilities for X001, X011, X101, X001: \",self.X001, self.X011, self.X101, self.X111)\n",
    "        if (self.X001 == 0 or self.X011 == 0 or self.X101 == 0 or self.X111 == 0):\n",
    "            self.X001, self.X011, self.X101, self.X111 = self.laplaceSmoothing(label = 1)\n",
    "        \n",
    "    def predict(self):\n",
    "        for sample, target in zip(self.X_test, self.y_test):\n",
    "            py0 = self.X0_prior\n",
    "            py1 = self.X1_prior\n",
    "            if sample[0] == 0 and sample[1] == 0:\n",
    "                py0 *= self.X000 * self.X100\n",
    "                py1 *= self.X001 * self.X101\n",
    "            elif sample[0] == 0 and sample[1] == 1:\n",
    "                py0 *= self.X000 * self.X110\n",
    "                py1 *= self.X001 * self.X111\n",
    "            elif sample[0] == 1 and sample[1] == 0:\n",
    "                py0 *= self.X010 * self.X100\n",
    "                py1 *= self.X011 * self.X101\n",
    "            elif sample[0] == 1 and sample[1] == 1:\n",
    "                py0 *= self.X010 * self.X110\n",
    "                py1 *= self.X011 * self.X111\n",
    "            \n",
    "            print(\"P(y=0|%s) = %.3f\" % (sample, py0 * 100))\n",
    "            print(\"P(y=1|%s) = %.3f\" % (sample, py1 * 100))\n",
    "            print(\"Model predicted class {} and the true label was {} \\n\".format(np.argmax([py0*100, py1*100]), target))\n",
    "\n",
    "    "
   ]
  }
 ],
 "metadata": {
  "colab": {
   "provenance": []
  },
  "kernelspec": {
   "display_name": "Python 3",
   "language": "python",
   "name": "python3"
  },
  "language_info": {
   "codemirror_mode": {
    "name": "ipython",
    "version": 3
   },
   "file_extension": ".py",
   "mimetype": "text/x-python",
   "name": "python",
   "nbconvert_exporter": "python",
   "pygments_lexer": "ipython3",
   "version": "3.9.16"
  }
 },
 "nbformat": 4,
 "nbformat_minor": 1
}
